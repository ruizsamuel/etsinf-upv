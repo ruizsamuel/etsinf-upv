{
 "cells": [
  {
   "cell_type": "markdown",
   "metadata": {},
   "source": [
    "<p style=\"page-break-after:always;\"></p>"
   ]
  },
  {
   "cell_type": "markdown",
   "metadata": {},
   "source": [
    "# Regresión logística aplicada a openml"
   ]
  },
  {
   "cell_type": "code",
   "execution_count": 1,
   "metadata": {},
   "outputs": [],
   "source": [
    "import warnings; warnings.filterwarnings(\"ignore\"); import numpy as np\n",
    "from sklearn.datasets import fetch_openml\n",
    "from sklearn.model_selection import train_test_split\n",
    "from sklearn.linear_model import LogisticRegression\n",
    "from sklearn.metrics import accuracy_score"
   ]
  },
  {
   "cell_type": "code",
   "execution_count": 2,
   "metadata": {},
   "outputs": [],
   "source": [
    "def err_eval(data_id):\n",
    "    X, y = fetch_openml(data_id=data_id, return_X_y=True, as_frame=False, parser=\"liac-arff\")\n",
    "    mask = ~np.isnan(X).any(axis=1); X = X[mask, :]; y = y[mask]\n",
    "    if X.shape[0] < 10: return(1.0)\n",
    "    X_train, X_test, y_train, y_test = train_test_split(X, y, test_size=0.2, shuffle=True, random_state=23)\n",
    "    clf = LogisticRegression(random_state=23).fit(X_train, y_train)\n",
    "    return(1 - accuracy_score(y_test, clf.predict(X_test)))"
   ]
  },
  {
   "cell_type": "code",
   "execution_count": 3,
   "metadata": {},
   "outputs": [
    {
     "name": "stdout",
     "output_type": "stream",
     "text": [
      "sid:    99  did:     3  C:     2  err:    5.5%  name: kr-vs-kp\n",
      "sid:    99  did:     6  C:    26  err:   23.7%  name: letter\n",
      "sid:    99  did:    11  C:     3  err:    8.0%  name: balance-scale\n",
      "sid:    99  did:    12  C:    10  err:    4.2%  name: mfeat-factors\n",
      "sid:    99  did:    14  C:    10  err:   21.0%  name: mfeat-fourier\n",
      "sid:    99  did:    15  C:     2  err:    2.2%  name: breast-w\n",
      "sid:    99  did:    16  C:    10  err:    4.5%  name: mfeat-karhunen\n",
      "sid:    99  did:    18  C:    10  err:   46.8%  name: mfeat-morphological\n",
      "sid:    99  did:    22  C:    10  err:   18.2%  name: mfeat-zernike\n",
      "sid:    99  did:    23  C:     3  err:   51.2%  name: cmc\n",
      "sid:    99  did:    28  C:    10  err:    3.3%  name: optdigits\n",
      "sid:    99  did:    29  C:     2  err:   13.7%  name: credit-approval\n",
      "sid:    99  did:    31  C:     2  err:   25.5%  name: credit-g\n",
      "sid:    99  did:    32  C:    10  err:    6.0%  name: pendigits\n",
      "sid:    99  did:    37  C:     2  err:   17.5%  name: diabetes\n",
      "sid:    99  did:    38  C:     2  err:  100.0%  name: sick\n",
      "sid:    99  did:    44  C:     2  err:    7.3%  name: spambase\n",
      "sid:    99  did:    46  C:     3  err:    6.7%  name: splice\n",
      "sid:    99  did:    50  C:     2  err:   29.2%  name: tic-tac-toe\n",
      "sid:    99  did:    54  C:     4  err:   29.4%  name: vehicle\n",
      "sid:    99  did:   151  C:     2  err:   24.9%  name: electricity\n",
      "sid:    99  did:   182  C:     6  err:   14.2%  name: satimage\n",
      "sid:    99  did:   188  C:     5  err:   60.5%  name: eucalyptus\n",
      "sid:    99  did:   300  C:    26  err:    4.5%  name: isolet\n",
      "sid:    99  did:   307  C:    11  err:   39.4%  name: vowel\n",
      "sid:    99  did:   458  C:     4  err:    1.2%  name: analcatdata_authorship\n",
      "sid:    99  did:   469  C:     6  err:   81.2%  name: analcatdata_dmft\n",
      "sid:    99  did:   554  C:    10  err:    8.0%  name: mnist_784\n",
      "sid:    99  did:  1049  C:     2  err:   12.0%  name: pc4\n",
      "sid:    99  did:  1050  C:     2  err:    8.6%  name: pc3\n",
      "sid:    99  did:  1053  C:     2  err:   19.5%  name: jm1\n",
      "sid:    99  did:  1063  C:     2  err:   13.3%  name: kc2\n",
      "sid:    99  did:  1067  C:     2  err:   17.5%  name: kc1\n",
      "sid:    99  did:  1068  C:     2  err:    5.9%  name: pc1\n",
      "sid:    99  did:  1461  C:     2  err:   11.5%  name: bank-marketing\n",
      "sid:    99  did:  1462  C:     2  err:    1.5%  name: banknote-authentication\n",
      "sid:    99  did:  1464  C:     2  err:   27.3%  name: blood-transfusion-service-center\n",
      "sid:    99  did:  1468  C:     9  err:    6.0%  name: cnae-9\n",
      "sid:    99  did:  1475  C:     6  err:   53.7%  name: first-order-theorem-proving\n",
      "sid:    99  did:  1478  C:     6  err:    1.8%  name: har\n",
      "sid:    99  did:  1480  C:     2  err:   29.9%  name: ilpd\n",
      "sid:    99  did:  1485  C:     2  err:   42.9%  name: madelon\n",
      "sid:    99  did:  1486  C:     2  err:    5.2%  name: nomao\n",
      "sid:    99  did:  1487  C:     2  err:    5.9%  name: ozone-level-8hr\n",
      "sid:    99  did:  1489  C:     2  err:   25.3%  name: phoneme\n",
      "sid:    99  did:  1494  C:     2  err:   16.6%  name: qsar-biodeg\n",
      "sid:    99  did:  1497  C:     4  err:   29.6%  name: wall-robot-navigation\n",
      "sid:    99  did:  1501  C:    10  err:    9.4%  name: semeion\n",
      "sid:    99  did:  1510  C:     2  err:    3.5%  name: wdbc\n",
      "sid:    99  did:  1590  C:     2  err:   20.8%  name: adult\n",
      "sid:    99  did:  4134  C:     2  err:   24.0%  name: Bioresponse\n",
      "sid:    99  did:  4534  C:     2  err:   10.2%  name: PhishingWebsites\n",
      "sid:    99  did:  4538  C:     5  err:   54.6%  name: GesturePhaseSegmentationProcessed\n",
      "sid:    99  did:  6332  C:     2  err:   28.6%  name: cylinder-bands\n",
      "sid:    99  did: 23381  C:     2  err:   50.0%  name: dresses-sales\n",
      "sid:    99  did: 23517  C:     2  err:   47.4%  name: numerai28.6\n",
      "sid:    99  did: 40499  C:    11  err:    2.1%  name: texture\n",
      "sid:    99  did: 40668  C:     3  err:   33.4%  name: connect-4\n",
      "sid:    99  did: 40670  C:     3  err:    5.2%  name: dna\n",
      "sid:    99  did: 40701  C:     2  err:   13.4%  name: churn\n",
      "sid:    99  did: 40923  C:    46  err:   27.7%  name: Devnagari-Script\n",
      "sid:    99  did: 40927  C:    10  err:   58.9%  name: CIFAR_10\n",
      "sid:    99  did: 40966  C:     8  err:    6.3%  name: MiceProtein\n",
      "sid:    99  did: 40975  C:     4  err:   15.6%  name: car\n",
      "sid:    99  did: 40978  C:     2  err:    3.2%  name: Internet-Advertisements\n",
      "sid:    99  did: 40979  C:    10  err:    3.2%  name: mfeat-pixel\n",
      "sid:    99  did: 40982  C:     7  err:   58.4%  name: steel-plates-fault\n",
      "sid:    99  did: 40983  C:     2  err:    3.5%  name: wilt\n",
      "sid:    99  did: 40984  C:     7  err:    7.8%  name: segment\n",
      "sid:    99  did: 40994  C:     2  err:    5.6%  name: climate-model-simulation-crashes\n",
      "sid:    99  did: 40996  C:    10  err:   14.7%  name: Fashion-MNIST\n",
      "sid:    99  did: 41027  C:     3  err:   31.8%  name: jungle_chess_2pcs_raw_endgame_complete\n",
      "sid:   334  did: 44156  C:     2  err:   26.6%  name: electricity\n",
      "sid:   334  did: 44157  C:     2  err:   46.8%  name: eye_movements\n",
      "sid:   334  did: 44159  C:     2  err:   24.5%  name: covertype\n",
      "sid:   334  did: 45035  C:     2  err:   36.8%  name: albert\n",
      "sid:   334  did: 45036  C:     2  err:   37.7%  name: default-of-credit-card-clients\n",
      "sid:   334  did: 45038  C:     2  err:   41.6%  name: road-safety\n",
      "sid:   334  did: 45039  C:     2  err:   30.2%  name: compas-two-years\n"
     ]
    }
   ],
   "source": [
    "import openml\n",
    "for sid in (99, 334):\n",
    "    benchmark_suite = openml.study.get_suite(suite_id=sid)\n",
    "    df = openml.datasets.list_datasets(data_id=benchmark_suite.data, output_format='dataframe')\n",
    "    for did, name, C in zip(df['did'], df['name'], df['NumberOfClasses']):\n",
    "        err = err_eval(did)\n",
    "        print(f\"sid: {sid:5d}  did: {did:5d}  C: {C:5.0f}  err: {err:7.1%}  name: {name:s}\")"
   ]
  },
  {
   "cell_type": "markdown",
   "metadata": {},
   "source": [
    "<p style=\"page-break-after:always;\"></p>"
   ]
  },
  {
   "cell_type": "code",
   "execution_count": 4,
   "metadata": {},
   "outputs": [
    {
     "name": "stdout",
     "output_type": "stream",
     "text": [
      "sid:   271  did:     3  C:     2  err:    5.5%  name: kr-vs-kp\n",
      "sid:   271  did:    12  C:    10  err:    4.2%  name: mfeat-factors\n",
      "sid:   271  did:    23  C:     3  err:   51.2%  name: cmc\n",
      "sid:   271  did:    31  C:     2  err:   25.5%  name: credit-g\n",
      "sid:   271  did:    54  C:     4  err:   29.4%  name: vehicle\n",
      "sid:   271  did:   181  C:    10  err:   45.1%  name: yeast\n",
      "sid:   271  did:   188  C:     5  err:   60.5%  name: eucalyptus\n",
      "sid:   271  did:  1049  C:     2  err:   12.0%  name: pc4\n",
      "sid:   271  did:  1067  C:     2  err:   17.5%  name: kc1\n",
      "sid:   271  did:  1111  C:     2  err:  100.0%  name: KDDCup09_appetency\n",
      "sid:   271  did:  1169  C:     2  err:   42.1%  name: airlines\n",
      "sid:   271  did:  1457  C:    50  err:   37.3%  name: amazon-commerce-reviews\n",
      "sid:   271  did:  1461  C:     2  err:   11.5%  name: bank-marketing\n",
      "sid:   271  did:  1464  C:     2  err:   27.3%  name: blood-transfusion-service-center\n",
      "sid:   271  did:  1468  C:     9  err:    6.0%  name: cnae-9\n",
      "sid:   271  did:  1475  C:     6  err:   53.7%  name: first-order-theorem-proving\n",
      "sid:   271  did:  1486  C:     2  err:    5.2%  name: nomao\n",
      "sid:   271  did:  1487  C:     2  err:    5.9%  name: ozone-level-8hr\n",
      "sid:   271  did:  1489  C:     2  err:   25.3%  name: phoneme\n",
      "sid:   271  did:  1494  C:     2  err:   16.6%  name: qsar-biodeg\n",
      "sid:   271  did:  1515  C:    20  err:   13.0%  name: micro-mass\n",
      "sid:   271  did:  1590  C:     2  err:   20.8%  name: adult\n",
      "sid:   271  did:  1596  C:     7  err:   38.3%  name: covertype\n",
      "sid:   271  did:  4134  C:     2  err:   24.0%  name: Bioresponse\n",
      "sid:   271  did:  4135  C:     2  err:    5.6%  name: Amazon_employee_access\n",
      "sid:   271  did:  4534  C:     2  err:   10.2%  name: PhishingWebsites\n",
      "sid:   271  did:  4538  C:     5  err:   54.6%  name: GesturePhaseSegmentationProcessed\n",
      "sid:   271  did:  4541  C:     3  err:   46.0%  name: Diabetes130US\n",
      "sid:   271  did: 23517  C:     2  err:   47.4%  name: numerai28.6\n",
      "sid:   271  did: 40498  C:     7  err:   54.4%  name: wine-quality-white\n",
      "sid:   271  did: 40668  C:     3  err:   33.4%  name: connect-4\n",
      "sid:   271  did: 40670  C:     3  err:    5.2%  name: dna\n",
      "sid:   271  did: 40685  C:     7  err:    7.8%  name: shuttle\n",
      "sid:   271  did: 40701  C:     2  err:   13.4%  name: churn\n",
      "sid:   271  did: 40900  C:     2  err:    0.8%  name: Satellite\n",
      "sid:   271  did: 40975  C:     4  err:   15.6%  name: car\n",
      "sid:   271  did: 40978  C:     2  err:    3.2%  name: Internet-Advertisements\n",
      "sid:   271  did: 40981  C:     2  err:   16.7%  name: Australian\n",
      "sid:   271  did: 40982  C:     7  err:   58.4%  name: steel-plates-fault\n",
      "sid:   271  did: 40983  C:     2  err:    3.5%  name: wilt\n",
      "sid:   271  did: 40984  C:     7  err:    7.8%  name: segment\n",
      "sid:   271  did: 40996  C:    10  err:   14.7%  name: Fashion-MNIST\n",
      "sid:   271  did: 41027  C:     3  err:   31.8%  name: jungle_chess_2pcs_raw_endgame_complete\n",
      "sid:   271  did: 41138  C:     2  err:    2.6%  name: APSFailure\n",
      "sid:   271  did: 41142  C:     2  err:   32.8%  name: christine\n",
      "sid:   271  did: 41143  C:     2  err:   19.8%  name: jasmine\n",
      "sid:   271  did: 41144  C:     2  err:   46.3%  name: madeline\n",
      "sid:   271  did: 41145  C:     2  err:   31.2%  name: philippine\n",
      "sid:   271  did: 41146  C:     2  err:   14.2%  name: sylvine\n",
      "sid:   271  did: 41150  C:     2  err:   14.8%  name: MiniBooNE\n",
      "sid:   271  did: 41156  C:     2  err:   17.1%  name: ada\n",
      "sid:   271  did: 41157  C:     2  err:    5.0%  name: arcene\n",
      "sid:   271  did: 41158  C:     2  err:   17.4%  name: gina\n",
      "sid:   271  did: 41159  C:     2  err:   33.3%  name: guillermo\n",
      "sid:   271  did: 41161  C:     2  err:    1.1%  name: riccardo\n",
      "sid:   271  did: 41162  C:     2  err:    5.0%  name: kick\n",
      "sid:   271  did: 41163  C:     5  err:    8.1%  name: dilbert\n",
      "sid:   271  did: 41164  C:     7  err:   31.6%  name: fabert\n",
      "sid:   271  did: 41165  C:    10  err:   63.2%  name: robert\n",
      "sid:   271  did: 41166  C:    10  err:   46.9%  name: volkert\n",
      "sid:   271  did: 41167  C:   355  err:   98.9%  name: dionis\n",
      "sid:   271  did: 41168  C:     4  err:   39.6%  name: jannis\n",
      "sid:   271  did: 41169  C:   100  err:   76.3%  name: helena\n",
      "sid:   271  did: 42732  C:     2  err:   12.2%  name: sf-police-incidents\n",
      "sid:   271  did: 42733  C:     2  err:   16.5%  name: Click_prediction_small\n",
      "sid:   271  did: 42734  C:     3  err:   26.5%  name: okcupid-stem\n",
      "sid:   271  did: 42742  C:     2  err:    4.6%  name: porto-seguro\n",
      "sid:   271  did: 42746  C:    23  err:    3.2%  name: KDDCup99\n",
      "sid:   271  did: 42769  C:     2  err:   35.9%  name: Higgs\n",
      "sid:   271  did: 43072  C:     2  err:  100.0%  name: KDDCup09-Upselling\n"
     ]
    }
   ],
   "source": [
    "import openml\n",
    "for sid in (271, ):\n",
    "    benchmark_suite = openml.study.get_suite(suite_id=sid)\n",
    "    df = openml.datasets.list_datasets(data_id=benchmark_suite.data, output_format='dataframe')\n",
    "    for did, name, C in zip(df['did'], df['name'], df['NumberOfClasses']):\n",
    "        if did == 41147: continue;\n",
    "        err = err_eval(did)\n",
    "        print(f\"sid: {sid:5d}  did: {did:5d}  C: {C:5.0f}  err: {err:7.1%}  name: {name:s}\")"
   ]
  }
 ],
 "metadata": {
  "kernelspec": {
   "display_name": "Python 3",
   "language": "python",
   "name": "python3"
  },
  "language_info": {
   "codemirror_mode": {
    "name": "ipython",
    "version": 3
   },
   "file_extension": ".py",
   "mimetype": "text/x-python",
   "name": "python",
   "nbconvert_exporter": "python",
   "pygments_lexer": "ipython3",
   "version": "3.12.3"
  },
  "orig_nbformat": 4
 },
 "nbformat": 4,
 "nbformat_minor": 2
}
